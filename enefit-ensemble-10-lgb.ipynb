{
 "cells": [
  {
   "cell_type": "code",
   "execution_count": 1,
   "id": "7beeb017",
   "metadata": {
    "_cell_guid": "b1076dfc-b9ad-4769-8c92-a6c4dae69d19",
    "_kg_hide-input": false,
    "_uuid": "8f2839f25d086af736a60e9eeb907d3b93b6e0e5",
    "execution": {
     "iopub.execute_input": "2025-05-04T23:46:05.359584Z",
     "iopub.status.busy": "2025-05-04T23:46:05.359161Z",
     "iopub.status.idle": "2025-05-04T23:46:09.872234Z",
     "shell.execute_reply": "2025-05-04T23:46:09.871264Z"
    },
    "papermill": {
     "duration": 4.522914,
     "end_time": "2025-05-04T23:46:09.874672",
     "exception": false,
     "start_time": "2025-05-04T23:46:05.351758",
     "status": "completed"
    },
    "tags": []
   },
   "outputs": [],
   "source": [
    "import warnings\n",
    "\n",
    "warnings.filterwarnings(\"ignore\")\n",
    "\n",
    "import os\n",
    "import gc\n",
    "import pickle\n",
    "\n",
    "import numpy as np\n",
    "import pandas as pd\n",
    "import polars as pl\n",
    "import plotly.express as px\n",
    "\n",
    "from sklearn.ensemble import VotingRegressor\n",
    "import lightgbm as lgb\n"
   ]
  },
  {
   "cell_type": "markdown",
   "id": "74c1ff8b",
   "metadata": {
    "papermill": {
     "duration": 0.004923,
     "end_time": "2025-05-04T23:46:09.885015",
     "exception": false,
     "start_time": "2025-05-04T23:46:09.880092",
     "status": "completed"
    },
    "tags": []
   },
   "source": [
    "# Classes"
   ]
  },
  {
   "cell_type": "markdown",
   "id": "7a5f8522",
   "metadata": {
    "papermill": {
     "duration": 0.004699,
     "end_time": "2025-05-04T23:46:09.894708",
     "exception": false,
     "start_time": "2025-05-04T23:46:09.890009",
     "status": "completed"
    },
    "tags": []
   },
   "source": [
    "### DataStorage"
   ]
  },
  {
   "cell_type": "code",
   "execution_count": 2,
   "id": "ece469ef",
   "metadata": {
    "execution": {
     "iopub.execute_input": "2025-05-04T23:46:09.906726Z",
     "iopub.status.busy": "2025-05-04T23:46:09.906353Z",
     "iopub.status.idle": "2025-05-04T23:46:09.924975Z",
     "shell.execute_reply": "2025-05-04T23:46:09.923874Z"
    },
    "papermill": {
     "duration": 0.027683,
     "end_time": "2025-05-04T23:46:09.927349",
     "exception": false,
     "start_time": "2025-05-04T23:46:09.899666",
     "status": "completed"
    },
    "tags": []
   },
   "outputs": [],
   "source": [
    "class DataStorage:\n",
    "    root = \"/kaggle/input/predict-energy-behavior-of-prosumers\"\n",
    "\n",
    "    data_cols = [\"target\",\"county\",\"is_business\",\"product_type\",\"is_consumption\",\"datetime\",\"row_id\",]\n",
    "    client_cols = [\"product_type\",\"county\",\"eic_count\",\"installed_capacity\",\"is_business\",\"date\",]\n",
    "    gas_prices_cols = [\"forecast_date\", \"lowest_price_per_mwh\", \"highest_price_per_mwh\"]\n",
    "    electricity_prices_cols = [\"forecast_date\", \"euros_per_mwh\"]\n",
    "    forecast_weather_cols = [\"latitude\",\"longitude\",\"hours_ahead\",\"temperature\",\"dewpoint\",\"cloudcover_high\",\"cloudcover_low\",\"cloudcover_mid\",\"cloudcover_total\",\"10_metre_u_wind_component\",\"10_metre_v_wind_component\",\"forecast_datetime\",\"direct_solar_radiation\",\"surface_solar_radiation_downwards\",\"snowfall\",\"total_precipitation\",]\n",
    "    historical_weather_cols = [\"datetime\",\"temperature\",\"dewpoint\",\"rain\",\"snowfall\",\"surface_pressure\",\"cloudcover_total\",\"cloudcover_low\",\"cloudcover_mid\",\"cloudcover_high\",\"windspeed_10m\",\"winddirection_10m\",\"shortwave_radiation\",\"direct_solar_radiation\",\"diffuse_radiation\",\"latitude\",\"longitude\",]\n",
    "    location_cols = [\"longitude\", \"latitude\", \"county\"]\n",
    "    target_cols = [\"target\",\"county\",\"is_business\",\"product_type\",\"is_consumption\",\"datetime\",]\n",
    "\n",
    "\n",
    "    def __init__(self):\n",
    "        self.df_data = pl.read_csv(\n",
    "            os.path.join(self.root, \"train.csv\"),\n",
    "            columns=self.data_cols,\n",
    "            try_parse_dates=True,\n",
    "        )\n",
    "        self.df_client = pl.read_csv(\n",
    "            os.path.join(self.root, \"client.csv\"),\n",
    "            columns=self.client_cols,\n",
    "            try_parse_dates=True,\n",
    "        )\n",
    "        self.df_gas_prices = pl.read_csv(\n",
    "            os.path.join(self.root, \"gas_prices.csv\"),\n",
    "            columns=self.gas_prices_cols,\n",
    "            try_parse_dates=True,\n",
    "        )\n",
    "        self.df_electricity_prices = pl.read_csv(\n",
    "            os.path.join(self.root, \"electricity_prices.csv\"),\n",
    "            columns=self.electricity_prices_cols,\n",
    "            try_parse_dates=True,\n",
    "        )\n",
    "        self.df_forecast_weather = pl.read_csv(\n",
    "            os.path.join(self.root, \"forecast_weather.csv\"),\n",
    "            columns=self.forecast_weather_cols,\n",
    "            try_parse_dates=True,\n",
    "        )\n",
    "        self.df_historical_weather = pl.read_csv(\n",
    "            os.path.join(self.root, \"historical_weather.csv\"),\n",
    "            columns=self.historical_weather_cols,\n",
    "            try_parse_dates=True,\n",
    "        )\n",
    "        self.df_weather_station_to_county_mapping = pl.read_csv(\n",
    "            os.path.join(self.root, \"weather_station_to_county_mapping.csv\"),\n",
    "            columns=self.location_cols,\n",
    "            try_parse_dates=True,\n",
    "        )\n",
    "        self.df_data = self.df_data.filter(\n",
    "            pl.col(\"datetime\") >= pd.to_datetime(\"2022-01-01\")\n",
    "        )\n",
    "        self.df_target = self.df_data.select(self.target_cols)\n",
    "\n",
    "        self.schema_data = self.df_data.schema\n",
    "        self.schema_client = self.df_client.schema\n",
    "        self.schema_gas_prices = self.df_gas_prices.schema\n",
    "        self.schema_electricity_prices = self.df_electricity_prices.schema\n",
    "        self.schema_forecast_weather = self.df_forecast_weather.schema\n",
    "        self.schema_historical_weather = self.df_historical_weather.schema\n",
    "        self.schema_target = self.df_target.schema\n",
    "\n",
    "        self.df_weather_station_to_county_mapping = (\n",
    "            self.df_weather_station_to_county_mapping.with_columns(\n",
    "                pl.col(\"latitude\").cast(pl.datatypes.Float32),\n",
    "                pl.col(\"longitude\").cast(pl.datatypes.Float32),\n",
    "            )\n",
    "        )\n",
    "\n",
    "    def update_with_new_data(\n",
    "        self,\n",
    "        df_new_client,\n",
    "        df_new_gas_prices,\n",
    "        df_new_electricity_prices,\n",
    "        df_new_forecast_weather,\n",
    "        df_new_historical_weather,\n",
    "        df_new_target,\n",
    "    ):\n",
    "        df_new_client = pl.from_pandas(\n",
    "            df_new_client[self.client_cols], schema_overrides=self.schema_client\n",
    "        )\n",
    "        df_new_gas_prices = pl.from_pandas(\n",
    "            df_new_gas_prices[self.gas_prices_cols],\n",
    "            schema_overrides=self.schema_gas_prices,\n",
    "        )\n",
    "        df_new_electricity_prices = pl.from_pandas(\n",
    "            df_new_electricity_prices[self.electricity_prices_cols],\n",
    "            schema_overrides=self.schema_electricity_prices,\n",
    "        )\n",
    "        df_new_forecast_weather = pl.from_pandas(\n",
    "            df_new_forecast_weather[self.forecast_weather_cols],\n",
    "            schema_overrides=self.schema_forecast_weather,\n",
    "        )\n",
    "        df_new_historical_weather = pl.from_pandas(\n",
    "            df_new_historical_weather[self.historical_weather_cols],\n",
    "            schema_overrides=self.schema_historical_weather,\n",
    "        )\n",
    "        df_new_target = pl.from_pandas(\n",
    "            df_new_target[self.target_cols], schema_overrides=self.schema_target\n",
    "        )\n",
    "\n",
    "        self.df_client = pl.concat([self.df_client, df_new_client]).unique(\n",
    "            [\"date\", \"county\", \"is_business\", \"product_type\"]\n",
    "        )\n",
    "        self.df_gas_prices = pl.concat([self.df_gas_prices, df_new_gas_prices]).unique(\n",
    "            [\"forecast_date\"]\n",
    "        )\n",
    "        self.df_electricity_prices = pl.concat(\n",
    "            [self.df_electricity_prices, df_new_electricity_prices]\n",
    "        ).unique([\"forecast_date\"])\n",
    "        self.df_forecast_weather = pl.concat(\n",
    "            [self.df_forecast_weather, df_new_forecast_weather]\n",
    "        ).unique([\"forecast_datetime\", \"latitude\", \"longitude\", \"hours_ahead\"])\n",
    "        self.df_historical_weather = pl.concat(\n",
    "            [self.df_historical_weather, df_new_historical_weather]\n",
    "        ).unique([\"datetime\", \"latitude\", \"longitude\"])\n",
    "        self.df_target = pl.concat([self.df_target, df_new_target]).unique(\n",
    "            [\"datetime\", \"county\", \"is_business\", \"product_type\", \"is_consumption\"]\n",
    "        )\n",
    "\n",
    "    def preprocess_test(self, df_test):\n",
    "        df_test = df_test.rename(columns={\"prediction_datetime\": \"datetime\"})\n",
    "        df_test = pl.from_pandas(\n",
    "            df_test[self.data_cols[1:]], schema_overrides=self.schema_data\n",
    "        )\n",
    "        return df_test\n"
   ]
  },
  {
   "cell_type": "markdown",
   "id": "7f7e2e97",
   "metadata": {
    "papermill": {
     "duration": 0.005572,
     "end_time": "2025-05-04T23:46:09.938420",
     "exception": false,
     "start_time": "2025-05-04T23:46:09.932848",
     "status": "completed"
    },
    "tags": []
   },
   "source": [
    "### FeaturesGenerator"
   ]
  },
  {
   "cell_type": "code",
   "execution_count": 3,
   "id": "0d977fd4",
   "metadata": {
    "execution": {
     "iopub.execute_input": "2025-05-04T23:46:09.951003Z",
     "iopub.status.busy": "2025-05-04T23:46:09.950633Z",
     "iopub.status.idle": "2025-05-04T23:46:09.982499Z",
     "shell.execute_reply": "2025-05-04T23:46:09.981308Z"
    },
    "papermill": {
     "duration": 0.04109,
     "end_time": "2025-05-04T23:46:09.984762",
     "exception": false,
     "start_time": "2025-05-04T23:46:09.943672",
     "status": "completed"
    },
    "tags": []
   },
   "outputs": [],
   "source": [
    "class FeaturesGenerator:\n",
    "    def __init__(self, data_storage):\n",
    "        self.data_storage = data_storage\n",
    "\n",
    "    def _add_general_features(self, df_features):\n",
    "        df_features = (\n",
    "            df_features.with_columns(\n",
    "                pl.col(\"datetime\").dt.ordinal_day().alias(\"dayofyear\"),\n",
    "                pl.col(\"datetime\").dt.hour().alias(\"hour\"),\n",
    "                pl.col(\"datetime\").dt.day().alias(\"day\"),\n",
    "                pl.col(\"datetime\").dt.weekday().alias(\"weekday\"),\n",
    "                pl.col(\"datetime\").dt.month().alias(\"month\"),\n",
    "                pl.col(\"datetime\").dt.year().alias(\"year\"),\n",
    "            )\n",
    "            .with_columns(\n",
    "                pl.concat_str(\n",
    "                    \"county\",\n",
    "                    \"is_business\",\n",
    "                    \"product_type\",\n",
    "                    \"is_consumption\",\n",
    "                    separator=\"_\",\n",
    "                ).alias(\"segment\"),\n",
    "            )\n",
    "            .with_columns(\n",
    "                (np.pi * pl.col(\"dayofyear\") / 183).sin().alias(\"sin(dayofyear)\"),\n",
    "                (np.pi * pl.col(\"dayofyear\") / 183).cos().alias(\"cos(dayofyear)\"),\n",
    "                (np.pi * pl.col(\"hour\") / 12).sin().alias(\"sin(hour)\"),\n",
    "                (np.pi * pl.col(\"hour\") / 12).cos().alias(\"cos(hour)\"),\n",
    "            )\n",
    "        )\n",
    "        return df_features\n",
    "\n",
    "    def _add_client_features(self, df_features):\n",
    "        df_client = self.data_storage.df_client\n",
    "\n",
    "        df_features = df_features.join(\n",
    "            df_client.with_columns(\n",
    "                (pl.col(\"date\") + pl.duration(days=2)).cast(pl.Date)\n",
    "            ),\n",
    "            on=[\"county\", \"is_business\", \"product_type\", \"date\"],\n",
    "            how=\"left\",\n",
    "        )\n",
    "        return df_features\n",
    "\n",
    "    def _add_forecast_weather_features(self, df_features):\n",
    "        df_forecast_weather = self.data_storage.df_forecast_weather\n",
    "        df_weather_station_to_county_mapping = (\n",
    "            self.data_storage.df_weather_station_to_county_mapping\n",
    "        )\n",
    "\n",
    "        df_forecast_weather = (\n",
    "            df_forecast_weather.rename({\"forecast_datetime\": \"datetime\"})\n",
    "            .filter((pl.col(\"hours_ahead\") >= 22) & pl.col(\"hours_ahead\") <= 45)\n",
    "            .drop(\"hours_ahead\")\n",
    "            .with_columns(\n",
    "                pl.col(\"latitude\").cast(pl.datatypes.Float32),\n",
    "                pl.col(\"longitude\").cast(pl.datatypes.Float32),\n",
    "            )\n",
    "            .join(\n",
    "                df_weather_station_to_county_mapping,\n",
    "                how=\"left\",\n",
    "                on=[\"longitude\", \"latitude\"],\n",
    "            )\n",
    "            .drop(\"longitude\", \"latitude\")\n",
    "        )\n",
    "\n",
    "        df_forecast_weather_date = (\n",
    "            df_forecast_weather.group_by(\"datetime\").mean().drop(\"county\")\n",
    "        )\n",
    "\n",
    "        df_forecast_weather_local = (\n",
    "            df_forecast_weather.filter(pl.col(\"county\").is_not_null())\n",
    "            .group_by(\"county\", \"datetime\")\n",
    "            .mean()\n",
    "        )\n",
    "\n",
    "        for hours_lag in [0, 7 * 24]:\n",
    "            df_features = df_features.join(\n",
    "                df_forecast_weather_date.with_columns(\n",
    "                    pl.col(\"datetime\") + pl.duration(hours=hours_lag)\n",
    "                ),\n",
    "                on=\"datetime\",\n",
    "                how=\"left\",\n",
    "                suffix=f\"_forecast_{hours_lag}h\",\n",
    "            )\n",
    "            df_features = df_features.join(\n",
    "                df_forecast_weather_local.with_columns(\n",
    "                    pl.col(\"datetime\") + pl.duration(hours=hours_lag)\n",
    "                ),\n",
    "                on=[\"county\", \"datetime\"],\n",
    "                how=\"left\",\n",
    "                suffix=f\"_forecast_local_{hours_lag}h\",\n",
    "            )\n",
    "\n",
    "        return df_features\n",
    "\n",
    "    def _add_historical_weather_features(self, df_features):\n",
    "        df_historical_weather = self.data_storage.df_historical_weather\n",
    "        df_weather_station_to_county_mapping = (\n",
    "            self.data_storage.df_weather_station_to_county_mapping\n",
    "        )\n",
    "\n",
    "        df_historical_weather = (\n",
    "            df_historical_weather.with_columns(\n",
    "                pl.col(\"latitude\").cast(pl.datatypes.Float32),\n",
    "                pl.col(\"longitude\").cast(pl.datatypes.Float32),\n",
    "            )\n",
    "            .join(\n",
    "                df_weather_station_to_county_mapping,\n",
    "                how=\"left\",\n",
    "                on=[\"longitude\", \"latitude\"],\n",
    "            )\n",
    "            .drop(\"longitude\", \"latitude\")\n",
    "        )\n",
    "\n",
    "        df_historical_weather_date = (\n",
    "            df_historical_weather.group_by(\"datetime\").mean().drop(\"county\")\n",
    "        )\n",
    "\n",
    "        df_historical_weather_local = (\n",
    "            df_historical_weather.filter(pl.col(\"county\").is_not_null())\n",
    "            .group_by(\"county\", \"datetime\")\n",
    "            .mean()\n",
    "        )\n",
    "\n",
    "        for hours_lag in [2 * 24, 7 * 24]:\n",
    "            df_features = df_features.join(\n",
    "                df_historical_weather_date.with_columns(\n",
    "                    pl.col(\"datetime\") + pl.duration(hours=hours_lag)\n",
    "                ),\n",
    "                on=\"datetime\",\n",
    "                how=\"left\",\n",
    "                suffix=f\"_historical_{hours_lag}h\",\n",
    "            )\n",
    "            df_features = df_features.join(\n",
    "                df_historical_weather_local.with_columns(\n",
    "                    pl.col(\"datetime\") + pl.duration(hours=hours_lag)\n",
    "                ),\n",
    "                on=[\"county\", \"datetime\"],\n",
    "                how=\"left\",\n",
    "                suffix=f\"_historical_local_{hours_lag}h\",\n",
    "            )\n",
    "\n",
    "        for hours_lag in [1 * 24]:\n",
    "            df_features = df_features.join(\n",
    "                df_historical_weather_date.with_columns(\n",
    "                    pl.col(\"datetime\") + pl.duration(hours=hours_lag),\n",
    "                    pl.col(\"datetime\").dt.hour().alias(\"hour\"),\n",
    "                )\n",
    "                .filter(pl.col(\"hour\") <= 10)\n",
    "                .drop(\"hour\"),\n",
    "                on=\"datetime\",\n",
    "                how=\"left\",\n",
    "                suffix=f\"_historical_{hours_lag}h\",\n",
    "            )\n",
    "\n",
    "        return df_features\n",
    "\n",
    "    def _add_target_features(self, df_features):\n",
    "        df_target = self.data_storage.df_target\n",
    "\n",
    "        df_target_all_type_sum = (\n",
    "            df_target.group_by([\"datetime\", \"county\", \"is_business\", \"is_consumption\"])\n",
    "            .sum()\n",
    "            .drop(\"product_type\")\n",
    "        )\n",
    "\n",
    "        df_target_all_county_type_sum = (\n",
    "            df_target.group_by([\"datetime\", \"is_business\", \"is_consumption\"])\n",
    "            .sum()\n",
    "            .drop(\"product_type\", \"county\")\n",
    "        )\n",
    "\n",
    "        for hours_lag in [\n",
    "            2 * 24,\n",
    "            3 * 24,\n",
    "            4 * 24,\n",
    "            5 * 24,\n",
    "            6 * 24,\n",
    "            7 * 24,\n",
    "            8 * 24,\n",
    "            9 * 24,\n",
    "            10 * 24,\n",
    "            11 * 24,\n",
    "            12 * 24,\n",
    "            13 * 24,\n",
    "            14 * 24,\n",
    "        ]:\n",
    "            df_features = df_features.join(\n",
    "                df_target.with_columns(\n",
    "                    pl.col(\"datetime\") + pl.duration(hours=hours_lag)\n",
    "                ).rename({\"target\": f\"target_{hours_lag}h\"}),\n",
    "                on=[\"county\",\"is_business\",\"product_type\",\"is_consumption\",\"datetime\",],\n",
    "                how=\"left\",\n",
    "            )\n",
    "\n",
    "        for hours_lag in [2 * 24, 3 * 24, 7 * 24, 14 * 24]:\n",
    "            df_features = df_features.join(\n",
    "                df_target_all_type_sum.with_columns(\n",
    "                    pl.col(\"datetime\") + pl.duration(hours=hours_lag)\n",
    "                ).rename({\"target\": f\"target_all_type_sum_{hours_lag}h\"}),\n",
    "                on=[\"county\", \"is_business\", \"is_consumption\", \"datetime\"],\n",
    "                how=\"left\",\n",
    "            )\n",
    "\n",
    "            df_features = df_features.join(\n",
    "                df_target_all_county_type_sum.with_columns(\n",
    "                    pl.col(\"datetime\") + pl.duration(hours=hours_lag)\n",
    "                ).rename({\"target\": f\"target_all_county_type_sum_{hours_lag}h\"}),\n",
    "                on=[\"is_business\", \"is_consumption\", \"datetime\"],\n",
    "                how=\"left\",\n",
    "                suffix=f\"_all_county_type_sum_{hours_lag}h\",\n",
    "            )\n",
    "\n",
    "        cols_for_stats = [\n",
    "            f\"target_{hours_lag}h\" for hours_lag in [2 * 24, 3 * 24, 4 * 24, 5 * 24]\n",
    "        ]\n",
    "        df_features = df_features.with_columns(\n",
    "            df_features.select(cols_for_stats).mean(axis=1).alias(f\"target_mean\"),\n",
    "            df_features.select(cols_for_stats)\n",
    "            .transpose()\n",
    "            .std()\n",
    "            .transpose()\n",
    "            .to_series()\n",
    "            .alias(f\"target_std\"),\n",
    "        )\n",
    "\n",
    "        for target_prefix, lag_nominator, lag_denomonator in [\n",
    "            (\"target\", 24 * 7, 24 * 14),\n",
    "            (\"target\", 24 * 2, 24 * 9),\n",
    "            (\"target\", 24 * 3, 24 * 10),\n",
    "            (\"target\", 24 * 2, 24 * 3),\n",
    "            (\"target_all_type_sum\", 24 * 2, 24 * 3),\n",
    "            (\"target_all_type_sum\", 24 * 7, 24 * 14),\n",
    "            (\"target_all_county_type_sum\", 24 * 2, 24 * 3),\n",
    "            (\"target_all_county_type_sum\", 24 * 7, 24 * 14),\n",
    "        ]:\n",
    "            df_features = df_features.with_columns(\n",
    "                (\n",
    "                    pl.col(f\"{target_prefix}_{lag_nominator}h\")\n",
    "                    / (pl.col(f\"{target_prefix}_{lag_denomonator}h\") + 1e-3)\n",
    "                ).alias(f\"{target_prefix}_ratio_{lag_nominator}_{lag_denomonator}\")\n",
    "            )\n",
    "\n",
    "        return df_features\n",
    "\n",
    "    def _reduce_memory_usage(self, df_features):\n",
    "        df_features = df_features.with_columns(pl.col(pl.Float64).cast(pl.Float32))\n",
    "        return df_features\n",
    "\n",
    "    def _drop_columns(self, df_features):\n",
    "        df_features = df_features.drop(\n",
    "            \"date\", \"datetime\", \"hour\", \"dayofyear\"\n",
    "        )\n",
    "        return df_features\n",
    "\n",
    "    def _to_pandas(self, df_features, y):\n",
    "        cat_cols = [\"county\",\"is_business\",\"product_type\",\"is_consumption\",\"segment\",\n",
    "        ]\n",
    "\n",
    "        if y is not None:\n",
    "            df_features = pd.concat([df_features.to_pandas(), y.to_pandas()], axis=1)\n",
    "        else:\n",
    "            df_features = df_features.to_pandas()\n",
    "\n",
    "        df_features = df_features.set_index(\"row_id\")\n",
    "        df_features[cat_cols] = df_features[cat_cols].astype(\"category\")\n",
    "\n",
    "        return df_features\n",
    "\n",
    "    def generate_features(self, df_prediction_items):\n",
    "        if \"target\" in df_prediction_items.columns:\n",
    "            df_prediction_items, y = (\n",
    "                df_prediction_items.drop(\"target\"),\n",
    "                df_prediction_items.select(\"target\"),\n",
    "            )\n",
    "        else:\n",
    "            y = None\n",
    "\n",
    "        df_features = df_prediction_items.with_columns(\n",
    "            pl.col(\"datetime\").cast(pl.Date).alias(\"date\"),\n",
    "        )\n",
    "\n",
    "        for add_features in [\n",
    "            self._add_general_features,\n",
    "            self._add_client_features,\n",
    "            self._add_forecast_weather_features,\n",
    "            self._add_historical_weather_features,\n",
    "            self._add_target_features,\n",
    "            self._reduce_memory_usage,\n",
    "            self._drop_columns,\n",
    "        ]:\n",
    "            df_features = add_features(df_features)\n",
    "\n",
    "        df_features = self._to_pandas(df_features, y)\n",
    "\n",
    "        return df_features\n"
   ]
  },
  {
   "cell_type": "markdown",
   "id": "a8f1d469",
   "metadata": {
    "papermill": {
     "duration": 0.004896,
     "end_time": "2025-05-04T23:46:09.995636",
     "exception": false,
     "start_time": "2025-05-04T23:46:09.990740",
     "status": "completed"
    },
    "tags": []
   },
   "source": [
    "### Model"
   ]
  },
  {
   "cell_type": "markdown",
   "id": "fa57198e",
   "metadata": {
    "papermill": {
     "duration": 0.005564,
     "end_time": "2025-05-04T23:46:10.006276",
     "exception": false,
     "start_time": "2025-05-04T23:46:10.000712",
     "status": "completed"
    },
    "tags": []
   },
   "source": [
    "# Initialisation"
   ]
  },
  {
   "cell_type": "code",
   "execution_count": 4,
   "id": "ff2a9657",
   "metadata": {
    "execution": {
     "iopub.execute_input": "2025-05-04T23:46:10.018059Z",
     "iopub.status.busy": "2025-05-04T23:46:10.017650Z",
     "iopub.status.idle": "2025-05-04T23:46:15.351309Z",
     "shell.execute_reply": "2025-05-04T23:46:15.350404Z"
    },
    "papermill": {
     "duration": 5.342331,
     "end_time": "2025-05-04T23:46:15.353711",
     "exception": false,
     "start_time": "2025-05-04T23:46:10.011380",
     "status": "completed"
    },
    "tags": []
   },
   "outputs": [],
   "source": [
    "data_storage = DataStorage()\n",
    "features_generator = FeaturesGenerator(data_storage=data_storage)"
   ]
  },
  {
   "cell_type": "markdown",
   "id": "1fd7f609",
   "metadata": {
    "papermill": {
     "duration": 0.005564,
     "end_time": "2025-05-04T23:46:15.364927",
     "exception": false,
     "start_time": "2025-05-04T23:46:15.359363",
     "status": "completed"
    },
    "tags": []
   },
   "source": [
    "# Feature Generation"
   ]
  },
  {
   "cell_type": "code",
   "execution_count": 5,
   "id": "5c7a7828",
   "metadata": {
    "execution": {
     "iopub.execute_input": "2025-05-04T23:46:15.377025Z",
     "iopub.status.busy": "2025-05-04T23:46:15.376686Z",
     "iopub.status.idle": "2025-05-04T23:46:36.290605Z",
     "shell.execute_reply": "2025-05-04T23:46:36.289333Z"
    },
    "papermill": {
     "duration": 20.922931,
     "end_time": "2025-05-04T23:46:36.293366",
     "exception": false,
     "start_time": "2025-05-04T23:46:15.370435",
     "status": "completed"
    },
    "tags": []
   },
   "outputs": [],
   "source": [
    "df_train_features = features_generator.generate_features(data_storage.df_data)\n",
    "df_train_features = df_train_features[df_train_features['target'].notnull()]"
   ]
  },
  {
   "cell_type": "code",
   "execution_count": 6,
   "id": "d4213464",
   "metadata": {
    "execution": {
     "iopub.execute_input": "2025-05-04T23:46:36.305697Z",
     "iopub.status.busy": "2025-05-04T23:46:36.305321Z",
     "iopub.status.idle": "2025-05-04T23:47:17.731641Z",
     "shell.execute_reply": "2025-05-04T23:47:17.729969Z"
    },
    "papermill": {
     "duration": 41.437962,
     "end_time": "2025-05-04T23:47:17.736867",
     "exception": false,
     "start_time": "2025-05-04T23:46:36.298905",
     "status": "completed"
    },
    "tags": []
   },
   "outputs": [],
   "source": [
    "import holidays\n",
    "import datetime\n",
    "\n",
    "estonian_holidays = holidays.country_holidays('EE', years=range(2021, 2026))\n",
    "estonian_holidays = list(estonian_holidays.keys())\n",
    "\n",
    "def add_holidays_as_binary_features(df):\n",
    "    df['country_holiday'] = df.apply(lambda row: (datetime.date(row['year'], row['month'], row['day']) in estonian_holidays) * 1, axis=1)\n",
    "    \n",
    "    return df\n",
    "\n",
    "df_train_features = add_holidays_as_binary_features(df_train_features)"
   ]
  },
  {
   "cell_type": "code",
   "execution_count": 7,
   "id": "d4133066",
   "metadata": {
    "execution": {
     "iopub.execute_input": "2025-05-04T23:47:17.753119Z",
     "iopub.status.busy": "2025-05-04T23:47:17.752729Z",
     "iopub.status.idle": "2025-05-04T23:47:17.787170Z",
     "shell.execute_reply": "2025-05-04T23:47:17.786147Z"
    },
    "papermill": {
     "duration": 0.045444,
     "end_time": "2025-05-04T23:47:17.790888",
     "exception": false,
     "start_time": "2025-05-04T23:47:17.745444",
     "status": "completed"
    },
    "tags": []
   },
   "outputs": [
    {
     "data": {
      "text/html": [
       "<div>\n",
       "<style scoped>\n",
       "    .dataframe tbody tr th:only-of-type {\n",
       "        vertical-align: middle;\n",
       "    }\n",
       "\n",
       "    .dataframe tbody tr th {\n",
       "        vertical-align: top;\n",
       "    }\n",
       "\n",
       "    .dataframe thead th {\n",
       "        text-align: right;\n",
       "    }\n",
       "</style>\n",
       "<table border=\"1\" class=\"dataframe\">\n",
       "  <thead>\n",
       "    <tr style=\"text-align: right;\">\n",
       "      <th></th>\n",
       "      <th>county</th>\n",
       "      <th>is_business</th>\n",
       "      <th>product_type</th>\n",
       "      <th>is_consumption</th>\n",
       "      <th>day</th>\n",
       "      <th>weekday</th>\n",
       "      <th>month</th>\n",
       "      <th>year</th>\n",
       "      <th>segment</th>\n",
       "      <th>sin(dayofyear)</th>\n",
       "      <th>...</th>\n",
       "      <th>target_ratio_168_336</th>\n",
       "      <th>target_ratio_48_216</th>\n",
       "      <th>target_ratio_72_240</th>\n",
       "      <th>target_ratio_48_72</th>\n",
       "      <th>target_all_type_sum_ratio_48_72</th>\n",
       "      <th>target_all_type_sum_ratio_168_336</th>\n",
       "      <th>target_all_county_type_sum_ratio_48_72</th>\n",
       "      <th>target_all_county_type_sum_ratio_168_336</th>\n",
       "      <th>target</th>\n",
       "      <th>country_holiday</th>\n",
       "    </tr>\n",
       "    <tr>\n",
       "      <th>row_id</th>\n",
       "      <th></th>\n",
       "      <th></th>\n",
       "      <th></th>\n",
       "      <th></th>\n",
       "      <th></th>\n",
       "      <th></th>\n",
       "      <th></th>\n",
       "      <th></th>\n",
       "      <th></th>\n",
       "      <th></th>\n",
       "      <th></th>\n",
       "      <th></th>\n",
       "      <th></th>\n",
       "      <th></th>\n",
       "      <th></th>\n",
       "      <th></th>\n",
       "      <th></th>\n",
       "      <th></th>\n",
       "      <th></th>\n",
       "      <th></th>\n",
       "      <th></th>\n",
       "    </tr>\n",
       "  </thead>\n",
       "  <tbody>\n",
       "    <tr>\n",
       "      <th>366048</th>\n",
       "      <td>0</td>\n",
       "      <td>0</td>\n",
       "      <td>1</td>\n",
       "      <td>0</td>\n",
       "      <td>1</td>\n",
       "      <td>6</td>\n",
       "      <td>1</td>\n",
       "      <td>2022</td>\n",
       "      <td>0_0_1_0</td>\n",
       "      <td>0.017166</td>\n",
       "      <td>...</td>\n",
       "      <td>NaN</td>\n",
       "      <td>NaN</td>\n",
       "      <td>NaN</td>\n",
       "      <td>NaN</td>\n",
       "      <td>NaN</td>\n",
       "      <td>NaN</td>\n",
       "      <td>NaN</td>\n",
       "      <td>NaN</td>\n",
       "      <td>0.000</td>\n",
       "      <td>1</td>\n",
       "    </tr>\n",
       "    <tr>\n",
       "      <th>366049</th>\n",
       "      <td>0</td>\n",
       "      <td>0</td>\n",
       "      <td>1</td>\n",
       "      <td>1</td>\n",
       "      <td>1</td>\n",
       "      <td>6</td>\n",
       "      <td>1</td>\n",
       "      <td>2022</td>\n",
       "      <td>0_0_1_1</td>\n",
       "      <td>0.017166</td>\n",
       "      <td>...</td>\n",
       "      <td>NaN</td>\n",
       "      <td>NaN</td>\n",
       "      <td>NaN</td>\n",
       "      <td>NaN</td>\n",
       "      <td>NaN</td>\n",
       "      <td>NaN</td>\n",
       "      <td>NaN</td>\n",
       "      <td>NaN</td>\n",
       "      <td>442.226</td>\n",
       "      <td>1</td>\n",
       "    </tr>\n",
       "    <tr>\n",
       "      <th>366050</th>\n",
       "      <td>0</td>\n",
       "      <td>0</td>\n",
       "      <td>2</td>\n",
       "      <td>0</td>\n",
       "      <td>1</td>\n",
       "      <td>6</td>\n",
       "      <td>1</td>\n",
       "      <td>2022</td>\n",
       "      <td>0_0_2_0</td>\n",
       "      <td>0.017166</td>\n",
       "      <td>...</td>\n",
       "      <td>NaN</td>\n",
       "      <td>NaN</td>\n",
       "      <td>NaN</td>\n",
       "      <td>NaN</td>\n",
       "      <td>NaN</td>\n",
       "      <td>NaN</td>\n",
       "      <td>NaN</td>\n",
       "      <td>NaN</td>\n",
       "      <td>0.000</td>\n",
       "      <td>1</td>\n",
       "    </tr>\n",
       "    <tr>\n",
       "      <th>366051</th>\n",
       "      <td>0</td>\n",
       "      <td>0</td>\n",
       "      <td>2</td>\n",
       "      <td>1</td>\n",
       "      <td>1</td>\n",
       "      <td>6</td>\n",
       "      <td>1</td>\n",
       "      <td>2022</td>\n",
       "      <td>0_0_2_1</td>\n",
       "      <td>0.017166</td>\n",
       "      <td>...</td>\n",
       "      <td>NaN</td>\n",
       "      <td>NaN</td>\n",
       "      <td>NaN</td>\n",
       "      <td>NaN</td>\n",
       "      <td>NaN</td>\n",
       "      <td>NaN</td>\n",
       "      <td>NaN</td>\n",
       "      <td>NaN</td>\n",
       "      <td>44.899</td>\n",
       "      <td>1</td>\n",
       "    </tr>\n",
       "    <tr>\n",
       "      <th>366052</th>\n",
       "      <td>0</td>\n",
       "      <td>0</td>\n",
       "      <td>3</td>\n",
       "      <td>0</td>\n",
       "      <td>1</td>\n",
       "      <td>6</td>\n",
       "      <td>1</td>\n",
       "      <td>2022</td>\n",
       "      <td>0_0_3_0</td>\n",
       "      <td>0.017166</td>\n",
       "      <td>...</td>\n",
       "      <td>NaN</td>\n",
       "      <td>NaN</td>\n",
       "      <td>NaN</td>\n",
       "      <td>NaN</td>\n",
       "      <td>NaN</td>\n",
       "      <td>NaN</td>\n",
       "      <td>NaN</td>\n",
       "      <td>NaN</td>\n",
       "      <td>0.015</td>\n",
       "      <td>1</td>\n",
       "    </tr>\n",
       "  </tbody>\n",
       "</table>\n",
       "<p>5 rows × 166 columns</p>\n",
       "</div>"
      ],
      "text/plain": [
       "       county is_business product_type is_consumption  day  weekday  month  \\\n",
       "row_id                                                                       \n",
       "366048      0           0            1              0    1        6      1   \n",
       "366049      0           0            1              1    1        6      1   \n",
       "366050      0           0            2              0    1        6      1   \n",
       "366051      0           0            2              1    1        6      1   \n",
       "366052      0           0            3              0    1        6      1   \n",
       "\n",
       "        year  segment  sin(dayofyear)  ...  target_ratio_168_336  \\\n",
       "row_id                                 ...                         \n",
       "366048  2022  0_0_1_0        0.017166  ...                   NaN   \n",
       "366049  2022  0_0_1_1        0.017166  ...                   NaN   \n",
       "366050  2022  0_0_2_0        0.017166  ...                   NaN   \n",
       "366051  2022  0_0_2_1        0.017166  ...                   NaN   \n",
       "366052  2022  0_0_3_0        0.017166  ...                   NaN   \n",
       "\n",
       "        target_ratio_48_216  target_ratio_72_240  target_ratio_48_72  \\\n",
       "row_id                                                                 \n",
       "366048                  NaN                  NaN                 NaN   \n",
       "366049                  NaN                  NaN                 NaN   \n",
       "366050                  NaN                  NaN                 NaN   \n",
       "366051                  NaN                  NaN                 NaN   \n",
       "366052                  NaN                  NaN                 NaN   \n",
       "\n",
       "        target_all_type_sum_ratio_48_72  target_all_type_sum_ratio_168_336  \\\n",
       "row_id                                                                       \n",
       "366048                              NaN                                NaN   \n",
       "366049                              NaN                                NaN   \n",
       "366050                              NaN                                NaN   \n",
       "366051                              NaN                                NaN   \n",
       "366052                              NaN                                NaN   \n",
       "\n",
       "        target_all_county_type_sum_ratio_48_72  \\\n",
       "row_id                                           \n",
       "366048                                     NaN   \n",
       "366049                                     NaN   \n",
       "366050                                     NaN   \n",
       "366051                                     NaN   \n",
       "366052                                     NaN   \n",
       "\n",
       "        target_all_county_type_sum_ratio_168_336   target  country_holiday  \n",
       "row_id                                                                      \n",
       "366048                                       NaN    0.000                1  \n",
       "366049                                       NaN  442.226                1  \n",
       "366050                                       NaN    0.000                1  \n",
       "366051                                       NaN   44.899                1  \n",
       "366052                                       NaN    0.015                1  \n",
       "\n",
       "[5 rows x 166 columns]"
      ]
     },
     "execution_count": 7,
     "metadata": {},
     "output_type": "execute_result"
    }
   ],
   "source": [
    "df_train_features.head()"
   ]
  },
  {
   "cell_type": "code",
   "execution_count": 8,
   "id": "ffe91d4f",
   "metadata": {
    "execution": {
     "iopub.execute_input": "2025-05-04T23:47:17.803973Z",
     "iopub.status.busy": "2025-05-04T23:47:17.803549Z",
     "iopub.status.idle": "2025-05-04T23:47:17.810118Z",
     "shell.execute_reply": "2025-05-04T23:47:17.809024Z"
    },
    "papermill": {
     "duration": 0.015642,
     "end_time": "2025-05-04T23:47:17.812423",
     "exception": false,
     "start_time": "2025-05-04T23:47:17.796781",
     "status": "completed"
    },
    "tags": []
   },
   "outputs": [
    {
     "name": "stdout",
     "output_type": "stream",
     "text": [
      "['county', 'is_business', 'product_type', 'is_consumption', 'day', 'weekday', 'month', 'year', 'segment', 'sin(dayofyear)', 'cos(dayofyear)', 'sin(hour)', 'cos(hour)', 'eic_count', 'installed_capacity', 'temperature', 'dewpoint', 'cloudcover_high', 'cloudcover_low', 'cloudcover_mid', 'cloudcover_total', '10_metre_u_wind_component', '10_metre_v_wind_component', 'direct_solar_radiation', 'surface_solar_radiation_downwards', 'snowfall', 'total_precipitation', 'temperature_forecast_local_0h', 'dewpoint_forecast_local_0h', 'cloudcover_high_forecast_local_0h', 'cloudcover_low_forecast_local_0h', 'cloudcover_mid_forecast_local_0h', 'cloudcover_total_forecast_local_0h', '10_metre_u_wind_component_forecast_local_0h', '10_metre_v_wind_component_forecast_local_0h', 'direct_solar_radiation_forecast_local_0h', 'surface_solar_radiation_downwards_forecast_local_0h', 'snowfall_forecast_local_0h', 'total_precipitation_forecast_local_0h', 'temperature_forecast_168h', 'dewpoint_forecast_168h', 'cloudcover_high_forecast_168h', 'cloudcover_low_forecast_168h', 'cloudcover_mid_forecast_168h', 'cloudcover_total_forecast_168h', '10_metre_u_wind_component_forecast_168h', '10_metre_v_wind_component_forecast_168h', 'direct_solar_radiation_forecast_168h', 'surface_solar_radiation_downwards_forecast_168h', 'snowfall_forecast_168h', 'total_precipitation_forecast_168h', 'temperature_forecast_local_168h', 'dewpoint_forecast_local_168h', 'cloudcover_high_forecast_local_168h', 'cloudcover_low_forecast_local_168h', 'cloudcover_mid_forecast_local_168h', 'cloudcover_total_forecast_local_168h', '10_metre_u_wind_component_forecast_local_168h', '10_metre_v_wind_component_forecast_local_168h', 'direct_solar_radiation_forecast_local_168h', 'surface_solar_radiation_downwards_forecast_local_168h', 'snowfall_forecast_local_168h', 'total_precipitation_forecast_local_168h', 'temperature_historical_48h', 'dewpoint_historical_48h', 'rain', 'snowfall_historical_48h', 'surface_pressure', 'cloudcover_total_historical_48h', 'cloudcover_low_historical_48h', 'cloudcover_mid_historical_48h', 'cloudcover_high_historical_48h', 'windspeed_10m', 'winddirection_10m', 'shortwave_radiation', 'direct_solar_radiation_historical_48h', 'diffuse_radiation', 'temperature_historical_local_48h', 'dewpoint_historical_local_48h', 'rain_historical_local_48h', 'snowfall_historical_local_48h', 'surface_pressure_historical_local_48h', 'cloudcover_total_historical_local_48h', 'cloudcover_low_historical_local_48h', 'cloudcover_mid_historical_local_48h', 'cloudcover_high_historical_local_48h', 'windspeed_10m_historical_local_48h', 'winddirection_10m_historical_local_48h', 'shortwave_radiation_historical_local_48h', 'direct_solar_radiation_historical_local_48h', 'diffuse_radiation_historical_local_48h', 'temperature_historical_168h', 'dewpoint_historical_168h', 'rain_historical_168h', 'snowfall_historical_168h', 'surface_pressure_historical_168h', 'cloudcover_total_historical_168h', 'cloudcover_low_historical_168h', 'cloudcover_mid_historical_168h', 'cloudcover_high_historical_168h', 'windspeed_10m_historical_168h', 'winddirection_10m_historical_168h', 'shortwave_radiation_historical_168h', 'direct_solar_radiation_historical_168h', 'diffuse_radiation_historical_168h', 'temperature_historical_local_168h', 'dewpoint_historical_local_168h', 'rain_historical_local_168h', 'snowfall_historical_local_168h', 'surface_pressure_historical_local_168h', 'cloudcover_total_historical_local_168h', 'cloudcover_low_historical_local_168h', 'cloudcover_mid_historical_local_168h', 'cloudcover_high_historical_local_168h', 'windspeed_10m_historical_local_168h', 'winddirection_10m_historical_local_168h', 'shortwave_radiation_historical_local_168h', 'direct_solar_radiation_historical_local_168h', 'diffuse_radiation_historical_local_168h', 'temperature_historical_24h', 'dewpoint_historical_24h', 'rain_historical_24h', 'snowfall_historical_24h', 'surface_pressure_historical_24h', 'cloudcover_total_historical_24h', 'cloudcover_low_historical_24h', 'cloudcover_mid_historical_24h', 'cloudcover_high_historical_24h', 'windspeed_10m_historical_24h', 'winddirection_10m_historical_24h', 'shortwave_radiation_historical_24h', 'direct_solar_radiation_historical_24h', 'diffuse_radiation_historical_24h', 'target_48h', 'target_72h', 'target_96h', 'target_120h', 'target_144h', 'target_168h', 'target_192h', 'target_216h', 'target_240h', 'target_264h', 'target_288h', 'target_312h', 'target_336h', 'target_all_type_sum_48h', 'target_all_county_type_sum_48h', 'target_all_type_sum_72h', 'target_all_county_type_sum_72h', 'target_all_type_sum_168h', 'target_all_county_type_sum_168h', 'target_all_type_sum_336h', 'target_all_county_type_sum_336h', 'target_mean', 'target_std', 'target_ratio_168_336', 'target_ratio_48_216', 'target_ratio_72_240', 'target_ratio_48_72', 'target_all_type_sum_ratio_48_72', 'target_all_type_sum_ratio_168_336', 'target_all_county_type_sum_ratio_48_72', 'target_all_county_type_sum_ratio_168_336', 'target', 'country_holiday']\n"
     ]
    }
   ],
   "source": [
    "print(df_train_features.columns.to_list())"
   ]
  },
  {
   "cell_type": "code",
   "execution_count": 9,
   "id": "b4843ec0",
   "metadata": {
    "execution": {
     "iopub.execute_input": "2025-05-04T23:47:17.826557Z",
     "iopub.status.busy": "2025-05-04T23:47:17.826143Z",
     "iopub.status.idle": "2025-05-04T23:47:18.242028Z",
     "shell.execute_reply": "2025-05-04T23:47:18.240894Z"
    },
    "papermill": {
     "duration": 0.425528,
     "end_time": "2025-05-04T23:47:18.244335",
     "exception": false,
     "start_time": "2025-05-04T23:47:17.818807",
     "status": "completed"
    },
    "tags": []
   },
   "outputs": [
    {
     "data": {
      "text/plain": [
       "county                                          0\n",
       "is_business                                     0\n",
       "product_type                                    0\n",
       "is_consumption                                  0\n",
       "day                                             0\n",
       "                                            ...  \n",
       "target_all_type_sum_ratio_168_336           43680\n",
       "target_all_county_type_sum_ratio_48_72       9360\n",
       "target_all_county_type_sum_ratio_168_336    43680\n",
       "target                                          0\n",
       "country_holiday                                 0\n",
       "Length: 166, dtype: int64"
      ]
     },
     "execution_count": 9,
     "metadata": {},
     "output_type": "execute_result"
    }
   ],
   "source": [
    "df_train_features.isnull().sum()"
   ]
  },
  {
   "cell_type": "code",
   "execution_count": 10,
   "id": "2236817b",
   "metadata": {
    "execution": {
     "iopub.execute_input": "2025-05-04T23:47:18.258087Z",
     "iopub.status.busy": "2025-05-04T23:47:18.257707Z",
     "iopub.status.idle": "2025-05-04T23:47:18.287739Z",
     "shell.execute_reply": "2025-05-04T23:47:18.286530Z"
    },
    "papermill": {
     "duration": 0.03966,
     "end_time": "2025-05-04T23:47:18.289976",
     "exception": false,
     "start_time": "2025-05-04T23:47:18.250316",
     "status": "completed"
    },
    "tags": []
   },
   "outputs": [
    {
     "name": "stdout",
     "output_type": "stream",
     "text": [
      "<class 'pandas.core.frame.DataFrame'>\n",
      "Index: 1651902 entries, 366048 to 2018351\n",
      "Columns: 166 entries, county to country_holiday\n",
      "dtypes: category(5), float32(154), float64(2), int32(1), int64(1), uint32(3)\n",
      "memory usage: 1.0 GB\n"
     ]
    }
   ],
   "source": [
    "df_train_features.info()"
   ]
  },
  {
   "cell_type": "markdown",
   "id": "75bbd700",
   "metadata": {
    "papermill": {
     "duration": 0.005525,
     "end_time": "2025-05-04T23:47:18.302254",
     "exception": false,
     "start_time": "2025-05-04T23:47:18.296729",
     "status": "completed"
    },
    "tags": []
   },
   "source": [
    "## Model Training"
   ]
  },
  {
   "cell_type": "code",
   "execution_count": 11,
   "id": "094691e9",
   "metadata": {
    "execution": {
     "iopub.execute_input": "2025-05-04T23:47:18.316017Z",
     "iopub.status.busy": "2025-05-04T23:47:18.315607Z",
     "iopub.status.idle": "2025-05-04T23:47:18.328132Z",
     "shell.execute_reply": "2025-05-04T23:47:18.327205Z"
    },
    "papermill": {
     "duration": 0.022202,
     "end_time": "2025-05-04T23:47:18.330287",
     "exception": false,
     "start_time": "2025-05-04T23:47:18.308085",
     "status": "completed"
    },
    "tags": []
   },
   "outputs": [],
   "source": [
    "parameter_list = [{'num_iterations': 500, 'verbose': -1, 'colsample_bynode': 0.7103688779357847, 'colsample_bytree': 0.6759995481832958, 'learning_rate': 0.08107710302284142, 'max_depth': 14, 'min_child_samples': 175, 'num_leaves': 169, 'objective': 'tweedie', 'path_smooth': 0.03638766162304646, 'reg_alpha': 4.241310552615537, 'reg_lambda': 1.91388003514709}, {'num_iterations': 500, 'verbose': -1, 'colsample_bynode': 0.5762487113184288, 'colsample_bytree': 0.5811355426944578, 'learning_rate': 0.08597630012152205, 'max_depth': 26, 'min_child_samples': 194, 'num_leaves': 361, 'objective': 'regression', 'path_smooth': 0.03465551777589707, 'reg_alpha': 6.996661462358405, 'reg_lambda': 8.470525016492395}, {'num_iterations': 500, 'verbose': -1, 'colsample_bynode': 0.43517350965256685, 'colsample_bytree': 0.7831532979997649, 'learning_rate': 0.07025903099500738, 'max_depth': 23, 'min_child_samples': 211, 'num_leaves': 321, 'objective': 'regression', 'path_smooth': 0.08559566561454247, 'reg_alpha': 2.6435598455478146, 'reg_lambda': 4.51993047978816}, {'num_iterations': 500, 'verbose': -1, 'colsample_bynode': 0.6069746474662208, 'colsample_bytree': 0.47723286276461496, 'learning_rate': 0.06380390287538754, 'max_depth': 10, 'min_child_samples': 245, 'num_leaves': 192, 'objective': 'regression', 'path_smooth': 0.03607590859625657, 'reg_alpha': 3.3788113950113328, 'reg_lambda': 5.702284030317997}, {'num_iterations': 500, 'verbose': -1, 'colsample_bynode': 0.360239888533631, 'colsample_bytree': 0.8355751080647349, 'learning_rate': 0.07606039804311976, 'max_depth': 16, 'min_child_samples': 121, 'num_leaves': 478, 'objective': 'regression', 'path_smooth': 0.0997680881977257, 'reg_alpha': 3.734520254197353, 'reg_lambda': 9.635057034367291}, {'num_iterations': 500, 'verbose': -1, 'colsample_bynode': 0.4174740961644613, 'colsample_bytree': 0.7508888306232886, 'learning_rate': 0.07708410483102476, 'max_depth': 25, 'min_child_samples': 216, 'num_leaves': 380, 'objective': 'regression', 'path_smooth': 0.06390932048435091, 'reg_alpha': 3.326634605594462, 'reg_lambda': 4.437207873684814}, {'num_iterations': 500, 'verbose': -1, 'colsample_bynode': 0.7381382697935609, 'colsample_bytree': 0.523576726896179, 'learning_rate': 0.06981333132164486, 'max_depth': 11, 'min_child_samples': 126, 'num_leaves': 214, 'objective': 'tweedie', 'path_smooth': 0.07218072257652315, 'reg_alpha': 9.975905654063325, 'reg_lambda': 2.551064575107957}, {'num_iterations': 500, 'verbose': -1, 'colsample_bynode': 0.9235361356621526, 'colsample_bytree': 0.43075258164239827, 'learning_rate': 0.06755536733597006, 'max_depth': 28, 'min_child_samples': 243, 'num_leaves': 213, 'objective': 'regression', 'path_smooth': 0.020429341100388392, 'reg_alpha': 2.553972315959381, 'reg_lambda': 2.4041022554705522}, {'num_iterations': 500, 'verbose': -1, 'colsample_bynode': 0.44166912467574293, 'colsample_bytree': 0.6606565063118934, 'learning_rate': 0.0897868781748779, 'max_depth': 18, 'min_child_samples': 240, 'num_leaves': 42, 'objective': 'tweedie', 'path_smooth': 0.01116875211972208, 'reg_alpha': 2.4423874109911345, 'reg_lambda': 4.128799810939097}, {'num_iterations': 500, 'verbose': -1, 'colsample_bynode': 0.9525732017313245, 'colsample_bytree': 0.6382630603007415, 'learning_rate': 0.08270391387009293, 'max_depth': 12, 'min_child_samples': 243, 'num_leaves': 292, 'objective': 'tweedie', 'path_smooth': 0.08723701882589538, 'reg_alpha': 6.1157717164194905, 'reg_lambda': 6.675900725606523}]"
   ]
  },
  {
   "cell_type": "code",
   "execution_count": 12,
   "id": "7c4d1975",
   "metadata": {
    "execution": {
     "iopub.execute_input": "2025-05-04T23:47:18.344358Z",
     "iopub.status.busy": "2025-05-04T23:47:18.344013Z",
     "iopub.status.idle": "2025-05-04T23:47:18.349786Z",
     "shell.execute_reply": "2025-05-04T23:47:18.348790Z"
    },
    "papermill": {
     "duration": 0.01526,
     "end_time": "2025-05-04T23:47:18.351902",
     "exception": false,
     "start_time": "2025-05-04T23:47:18.336642",
     "status": "completed"
    },
    "tags": []
   },
   "outputs": [],
   "source": [
    "# model_consumption = VotingRegressor([\n",
    "#         ('lgb_0', lgb.LGBMRegressor(**parameter_list[0], random_state=42)),\n",
    "#         ('lgb_1', lgb.LGBMRegressor(**parameter_list[1], random_state=42)),\n",
    "#         ('lgb_2', lgb.LGBMRegressor(**parameter_list[2], random_state=42)), \n",
    "#         ('lgb_3', lgb.LGBMRegressor(**parameter_list[3], random_state=42)), \n",
    "#         ('lgb_4', lgb.LGBMRegressor(**parameter_list[4], random_state=42)), \n",
    "#         ('lgb_5', lgb.LGBMRegressor(**parameter_list[5], random_state=42)), \n",
    "#         ('lgb_6', lgb.LGBMRegressor(**parameter_list[6], random_state=42)), \n",
    "#         ('lgb_7', lgb.LGBMRegressor(**parameter_list[7], random_state=42)),\n",
    "#         ('lgb_8', lgb.LGBMRegressor(**parameter_list[8], random_state=42)),\n",
    "#         ('lgb_9', lgb.LGBMRegressor(**parameter_list[9], random_state=42)),\n",
    "# ],weights=[0.14,0.13,0.08,0.11,0.09,0.1,0.09,0.07,0.12,0.07])\n",
    "    \n",
    "# model_production = VotingRegressor([\n",
    "#         ('lgb_10', lgb.LGBMRegressor(**parameter_list[0], random_state=42)),\n",
    "#         ('lgb_11', lgb.LGBMRegressor(**parameter_list[1], random_state=42)),\n",
    "#         ('lgb_12', lgb.LGBMRegressor(**parameter_list[2], random_state=42)), \n",
    "#         ('lgb_13', lgb.LGBMRegressor(**parameter_list[3], random_state=42)), \n",
    "#         ('lgb_14', lgb.LGBMRegressor(**parameter_list[4], random_state=42)), \n",
    "#         ('lgb_15', lgb.LGBMRegressor(**parameter_list[5], random_state=42)), \n",
    "#         ('lgb_16', lgb.LGBMRegressor(**parameter_list[6], random_state=42)), \n",
    "#         ('lgb_17', lgb.LGBMRegressor(**parameter_list[7], random_state=42)),\n",
    "#         ('lgb_18', lgb.LGBMRegressor(**parameter_list[8], random_state=42)),\n",
    "#         ('lgb_19', lgb.LGBMRegressor(**parameter_list[9], random_state=42)),\n",
    "# ],weights=[0.14,0.13,0.08,0.11,0.09,0.1,0.09,0.07,0.12,0.07])\n",
    "\n",
    "# mask = df_train_features['is_consumption'] == 1\n",
    "# model_consumption.fit(\n",
    "#     X=df_train_features[mask].drop(columns=[\"target\"]),\n",
    "#     y=df_train_features[mask][\"target\"]\n",
    "# )\n",
    "\n",
    "# mask = df_train_features['is_consumption'] == 0\n",
    "# model_production.fit(\n",
    "#     X=df_train_features[mask].drop(columns=[\"target\"]),\n",
    "#     y=df_train_features[mask][\"target\"]\n",
    "# )"
   ]
  },
  {
   "cell_type": "code",
   "execution_count": 13,
   "id": "3fbaf7a9",
   "metadata": {
    "execution": {
     "iopub.execute_input": "2025-05-04T23:47:18.365262Z",
     "iopub.status.busy": "2025-05-04T23:47:18.364894Z",
     "iopub.status.idle": "2025-05-04T23:47:18.369340Z",
     "shell.execute_reply": "2025-05-04T23:47:18.368383Z"
    },
    "papermill": {
     "duration": 0.013345,
     "end_time": "2025-05-04T23:47:18.371170",
     "exception": false,
     "start_time": "2025-05-04T23:47:18.357825",
     "status": "completed"
    },
    "tags": []
   },
   "outputs": [],
   "source": [
    "# import joblib\n",
    "\n",
    "# joblib.dump(model_consumption, 'model_consumption.pkl')\n",
    "# joblib.dump(model_production, 'model_production.pkl')"
   ]
  },
  {
   "cell_type": "code",
   "execution_count": 14,
   "id": "e87b2a7f",
   "metadata": {
    "execution": {
     "iopub.execute_input": "2025-05-04T23:47:18.384322Z",
     "iopub.status.busy": "2025-05-04T23:47:18.383934Z",
     "iopub.status.idle": "2025-05-04T23:47:58.895398Z",
     "shell.execute_reply": "2025-05-04T23:47:58.894273Z"
    },
    "papermill": {
     "duration": 40.521004,
     "end_time": "2025-05-04T23:47:58.897995",
     "exception": false,
     "start_time": "2025-05-04T23:47:18.376991",
     "status": "completed"
    },
    "tags": []
   },
   "outputs": [],
   "source": [
    "import joblib\n",
    "\n",
    "model_consumption = joblib.load('/kaggle/input/enefit-trained-model/voting_regressor_consumption_model.joblib')\n",
    "model_production = joblib.load('/kaggle/input/enefit-trained-model/voting_regressor_production_model.joblib')"
   ]
  },
  {
   "cell_type": "markdown",
   "id": "bdd115d0",
   "metadata": {
    "papermill": {
     "duration": 0.005878,
     "end_time": "2025-05-04T23:47:58.910004",
     "exception": false,
     "start_time": "2025-05-04T23:47:58.904126",
     "status": "completed"
    },
    "tags": []
   },
   "source": [
    "# Submit API"
   ]
  },
  {
   "cell_type": "code",
   "execution_count": 15,
   "id": "751c8242",
   "metadata": {
    "execution": {
     "iopub.execute_input": "2025-05-04T23:47:58.923272Z",
     "iopub.status.busy": "2025-05-04T23:47:58.922891Z",
     "iopub.status.idle": "2025-05-04T23:47:58.948050Z",
     "shell.execute_reply": "2025-05-04T23:47:58.946891Z"
    },
    "papermill": {
     "duration": 0.034711,
     "end_time": "2025-05-04T23:47:58.950528",
     "exception": false,
     "start_time": "2025-05-04T23:47:58.915817",
     "status": "completed"
    },
    "tags": []
   },
   "outputs": [],
   "source": [
    "import enefit\n",
    "\n",
    "env = enefit.make_env()\n",
    "iter_test = env.iter_test()"
   ]
  },
  {
   "cell_type": "code",
   "execution_count": 16,
   "id": "218a4bd0",
   "metadata": {
    "execution": {
     "iopub.execute_input": "2025-05-04T23:47:58.964448Z",
     "iopub.status.busy": "2025-05-04T23:47:58.964069Z",
     "iopub.status.idle": "2025-05-04T23:49:13.556810Z",
     "shell.execute_reply": "2025-05-04T23:49:13.555568Z"
    },
    "papermill": {
     "duration": 74.60268,
     "end_time": "2025-05-04T23:49:13.559579",
     "exception": false,
     "start_time": "2025-05-04T23:47:58.956899",
     "status": "completed"
    },
    "tags": []
   },
   "outputs": [
    {
     "name": "stdout",
     "output_type": "stream",
     "text": [
      "This version of the API is not optimized and should not be used to estimate the runtime of your code on the hidden test set.\n"
     ]
    }
   ],
   "source": [
    "for (df_test, df_new_target, df_new_client, df_new_historical_weather,\n",
    "     df_new_forecast_weather, df_new_electricity_prices, df_new_gas_prices,\n",
    "     df_sample_prediction) in iter_test:\n",
    "\n",
    "    data_storage.update_with_new_data(\n",
    "        df_new_client=df_new_client,\n",
    "        df_new_gas_prices=df_new_gas_prices,\n",
    "        df_new_electricity_prices=df_new_electricity_prices,\n",
    "        df_new_forecast_weather=df_new_forecast_weather,\n",
    "        df_new_historical_weather=df_new_historical_weather,\n",
    "        df_new_target=df_new_target\n",
    "    )\n",
    "    \n",
    "    df_test = data_storage.preprocess_test(df_test)\n",
    "    df_test_features = features_generator.generate_features(df_test)\n",
    "    df_test_features = add_holidays_as_binary_features(df_test_features)\n",
    "\n",
    "    # Ensure the index is aligned\n",
    "    df_test_features = df_test_features.reset_index(drop=True)\n",
    "    df_sample_prediction = df_sample_prediction.reset_index(drop=True)\n",
    "\n",
    "    # Initialize default\n",
    "    df_sample_prediction[\"target\"] = 0\n",
    "\n",
    "    # Boolean masks\n",
    "    consumption_mask = df_test_features[\"is_consumption\"] == 1\n",
    "    production_mask = ~consumption_mask\n",
    "\n",
    "    # Get index positions\n",
    "    consumption_idx = df_test_features[consumption_mask].index\n",
    "    production_idx = df_test_features[production_mask].index\n",
    "\n",
    "    if len(consumption_idx) > 0:\n",
    "        preds_c = model_consumption.predict(df_test_features.loc[consumption_idx])\n",
    "        df_sample_prediction.loc[consumption_idx, \"target\"] = preds_c\n",
    "\n",
    "    if len(production_idx) > 0:\n",
    "        preds_p = model_production.predict(df_test_features.loc[production_idx])\n",
    "        df_sample_prediction.loc[production_idx, \"target\"] = preds_p\n",
    "\n",
    "    env.predict(df_sample_prediction)\n"
   ]
  },
  {
   "cell_type": "code",
   "execution_count": null,
   "id": "826bc901",
   "metadata": {
    "papermill": {
     "duration": 0.005771,
     "end_time": "2025-05-04T23:49:13.571852",
     "exception": false,
     "start_time": "2025-05-04T23:49:13.566081",
     "status": "completed"
    },
    "tags": []
   },
   "outputs": [],
   "source": []
  }
 ],
 "metadata": {
  "kaggle": {
   "accelerator": "none",
   "dataSources": [
    {
     "databundleVersionId": 7292407,
     "sourceId": 57236,
     "sourceType": "competition"
    },
    {
     "datasetId": 4266997,
     "sourceId": 7348254,
     "sourceType": "datasetVersion"
    }
   ],
   "dockerImageVersionId": 30626,
   "isGpuEnabled": false,
   "isInternetEnabled": false,
   "language": "python",
   "sourceType": "notebook"
  },
  "kernelspec": {
   "display_name": "Python 3",
   "language": "python",
   "name": "python3"
  },
  "language_info": {
   "codemirror_mode": {
    "name": "ipython",
    "version": 3
   },
   "file_extension": ".py",
   "mimetype": "text/x-python",
   "name": "python",
   "nbconvert_exporter": "python",
   "pygments_lexer": "ipython3",
   "version": "3.10.12"
  },
  "papermill": {
   "default_parameters": {},
   "duration": 193.679989,
   "end_time": "2025-05-04T23:49:15.204253",
   "environment_variables": {},
   "exception": null,
   "input_path": "__notebook__.ipynb",
   "output_path": "__notebook__.ipynb",
   "parameters": {},
   "start_time": "2025-05-04T23:46:01.524264",
   "version": "2.4.0"
  }
 },
 "nbformat": 4,
 "nbformat_minor": 5
}
